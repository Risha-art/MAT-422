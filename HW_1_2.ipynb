{
  "nbformat": 4,
  "nbformat_minor": 0,
  "metadata": {
    "colab": {
      "provenance": [],
      "authorship_tag": "ABX9TyO2fNJqpOqbmD9EIdW7npOF",
      "include_colab_link": true
    },
    "kernelspec": {
      "name": "python3",
      "display_name": "Python 3"
    },
    "language_info": {
      "name": "python"
    }
  },
  "cells": [
    {
      "cell_type": "markdown",
      "metadata": {
        "id": "view-in-github",
        "colab_type": "text"
      },
      "source": [
        "<a href=\"https://colab.research.google.com/github/Risha-art/MAT-422/blob/main/HW_1_2.ipynb\" target=\"_parent\"><img src=\"https://colab.research.google.com/assets/colab-badge.svg\" alt=\"Open In Colab\"/></a>"
      ]
    },
    {
      "cell_type": "code",
      "execution_count": null,
      "metadata": {
        "id": "j8UVjKUfcNPQ"
      },
      "outputs": [],
      "source": []
    },
    {
      "cell_type": "markdown",
      "source": [
        "##**1.2.1 Linear Spaces**\n",
        "\n",
        "This example will illustrate how linear combinations are calculated.\n",
        "\n",
        "A linear combination is an expression constructed from a set of terms multiplying each term with a constant and summing the results.\n",
        "\n",
        "If vector u is a linear combination of vectors v and w, then u is also in the span of vectors v and w. This is because the span is the set of all linear combinations of the two vectors v and w.\n",
        "\n"
      ],
      "metadata": {
        "id": "YpWRY_2LcU6C"
      }
    },
    {
      "cell_type": "code",
      "source": [
        "import numpy as np\n",
        "#Define three vectors in R^3\n",
        "u1 = np.array([0,0,1])\n",
        "u2 = np.array([0,1,0])\n",
        "u3 = np.array([1,0,0])\n",
        "print(\"Three vectors u1,u2,and u3 are\", u1,u2,u3)\n",
        "#Define vector y as the vector we want to express as a linear combination of u vectors.\n",
        "y = ([4.5,3.7,2.9])\n",
        "print(\"We want to express vector y as a linear combination of vectors u1,u2,and u3: y=\", y)\n",
        "# To express vector y as a linear combination, we need to solve for the scalars.\n",
        "scalars = np.linalg.solve(u,y)\n",
        "\n",
        "#Set constants equal to elements of the scalars.\n",
        "c1 = scalars[0]\n",
        "c2 = scalars[1]\n",
        "c3 = scalars[2]\n",
        "print(\"The following are the scalars c1, c2, and c3: \", c1,c2,c3)\n",
        "lin_comb = c1 * u1 + c2 * u2 + c3 * u3\n",
        "print(\"Linear combination of c1 * u1 + c2 * u2 + c3 * u3: \", lin_comb)\n"
      ],
      "metadata": {
        "colab": {
          "base_uri": "https://localhost:8080/"
        },
        "id": "eATZ83HkdszH",
        "outputId": "7ac9fb09-68e0-4a73-cb2e-e7d17b9998e0"
      },
      "execution_count": 5,
      "outputs": [
        {
          "output_type": "stream",
          "name": "stdout",
          "text": [
            "Three vectors u1,u2,and u3 are [0 0 1] [0 1 0] [1 0 0]\n",
            "We want to express vector y as a linear combination of vectors u1.u2.and u3: y= [4.5, 3.7, 2.9]\n",
            "The following are the scalars c1, c2, and c3:  2.9 3.7 4.5\n",
            "Linear combination of c1 * u1 + c2 * u2 + c3 * u3:  [4.5 3.7 2.9]\n"
          ]
        }
      ]
    },
    {
      "cell_type": "markdown",
      "source": [
        "## **1.2.2 Orthogonality**\n",
        "\n",
        "This following exercise illustrates the Pythagorean theorem."
      ],
      "metadata": {
        "id": "C0mUmHFDdujO"
      }
    },
    {
      "cell_type": "code",
      "source": [
        "A = np.random.randint(low=0, high=10, size=(3,3))\n",
        "B= np.random.randint(low=0, high=10, size=(3,3))\n",
        "\n",
        "print(\"Random 3x3 Matrix:\\n\", A)\n",
        "print(\"Random 3x3 Matrix:\\n\",B)\n"
      ],
      "metadata": {
        "colab": {
          "base_uri": "https://localhost:8080/"
        },
        "id": "gR_rBEO-eM9C",
        "outputId": "5fcab754-5ef0-44eb-bef4-44b7cb5589aa"
      },
      "execution_count": 10,
      "outputs": [
        {
          "output_type": "stream",
          "name": "stdout",
          "text": [
            "Random 3x3 Matrix:\n",
            " [[3 4 7]\n",
            " [7 3 7]\n",
            " [3 1 5]]\n",
            "Random 3x3 Matrix:\n",
            " [[1 0 3]\n",
            " [1 8 3]\n",
            " [6 9 7]]\n"
          ]
        }
      ]
    },
    {
      "cell_type": "markdown",
      "source": [
        "Given two vectors u and v, vector c is the orthogonal projection of u on v as the tip of the vector projection coincides with the perpendicular line drawn from the tip of u to v."
      ],
      "metadata": {
        "id": "7rjKhxPVxBOn"
      }
    },
    {
      "cell_type": "code",
      "source": [
        "u = A[0,:]\n",
        "v = B[0,:]\n",
        "print(\"Vector u:\", u)\n",
        "print(\"Vector v:\",v)\n",
        "proj = v * np.dot(u,v) / np.dot(v,v)\n",
        "print(\"Vector Projection of u onto v:\", proj)\n",
        "\n",
        "\n"
      ],
      "metadata": {
        "colab": {
          "base_uri": "https://localhost:8080/"
        },
        "id": "xfVhyCzNxPhF",
        "outputId": "1bfafeef-cf14-4d98-de7e-5fbcd6e8f746"
      },
      "execution_count": 21,
      "outputs": [
        {
          "output_type": "stream",
          "name": "stdout",
          "text": [
            "Vector u: [3 4 7]\n",
            "Vector v: [1 0 3]\n",
            "Vector Projection of u onto v: [2.4 0.  7.2]\n"
          ]
        }
      ]
    },
    {
      "cell_type": "markdown",
      "source": [
        "## **1.2.3 Gram - Schmidt Process** ##\n"
      ],
      "metadata": {
        "id": "bpEza7TleNcs"
      }
    },
    {
      "cell_type": "markdown",
      "source": [
        "This part of the code will illustrate how we can use the Gram-Schmidt Process to make an orthonormal basis for a vector space given any set of vectors that form a basis. In other words, the Gram-Schmidt process takes a set of linearly independent vectors and generates an orthonormal set of vectors spanning the same subspace."
      ],
      "metadata": {
        "id": "fmD_X8361LQ_"
      }
    },
    {
      "cell_type": "code",
      "source": [
        "v1 = np.array([1,-1,1])\n",
        "v2 = np.array([1, 0, 1])\n",
        "v3 = np.array([1,1,2])\n",
        "\n",
        "print(\"Consider the basis in R^3 of v1,v2,and v3=\", v1,v2, v3)\n",
        "\n",
        "u1 = v1\n",
        "print(\"Set u1 as v1:\", u1)\n",
        "\n",
        "u2 = v2 - (np.dot(v2,u1)/ np.dot(u1,u1)) * u1\n",
        "print(\"Calculate u2 = \", u2)\n",
        "\n",
        "u3 = v3 - ((np.dot(v3,u1)/ np.dot(u1,u1)) * u1) - ((np.dot(v3,u2)/ np.dot(u2,u2)) * u2)\n",
        "print(\"Calculate u3 = \", u3)\n",
        "\n",
        "print(\"These three vectors form an orthogonal basis.But if we want an orthonormal basis, we divide each vector by its length.\")\n",
        "\n",
        "w1 = u1/ np.sqrt(np.dot(u1,u1))\n",
        "w2 = u2/ np.sqrt(np.dot(u2,u2))\n",
        "w3 = u3/ np.sqrt(np.dot(u3,u3))\n",
        "\n",
        "print(\"These are the three vectors that form an orthonormal basis: \\n\", w1,w2,w3)\n",
        "\n"
      ],
      "metadata": {
        "colab": {
          "base_uri": "https://localhost:8080/"
        },
        "id": "czflsGVf1YY1",
        "outputId": "632bb52e-1d34-49cd-999c-6f53c649cc30"
      },
      "execution_count": 39,
      "outputs": [
        {
          "output_type": "stream",
          "name": "stdout",
          "text": [
            "Consider the basis in R^3 of v1,v2,and v3= [ 1 -1  1] [1 0 1] [1 1 2]\n",
            "Set u1 as v1: [ 1 -1  1]\n",
            "Calculate u2 =  [0.33333333 0.66666667 0.33333333]\n",
            "Calculate u3 =  [-0.5  0.   0.5]\n",
            "These three vectors form an orthogonal basis.But if we want an orthonormal basis, we divide each vector by its length.\n",
            "These are the three vectors that form an orthonormal basis: \n",
            " [ 0.57735027 -0.57735027  0.57735027] [0.40824829 0.81649658 0.40824829] [-0.70710678  0.          0.70710678]\n"
          ]
        }
      ]
    },
    {
      "cell_type": "markdown",
      "source": [
        "## **1.2.4 Eigenvalues & Eigenvectors**\n",
        "\n",
        "Power Method\n",
        "\n",
        "Here is an iterative method to find the largest Eigenvalue and the corresponding Eigenvector"
      ],
      "metadata": {
        "id": "mW7pLvVVeXag"
      }
    },
    {
      "cell_type": "code",
      "source": [
        "print(\"Matrix A of order n has n linearly independent eigen vectors.\")\n",
        "a1 = np.array([1, -3, 2])\n",
        "a2 = np.array([4,4,-1])\n",
        "a3 = np.array([6,3,5])\n",
        "print(\"Consider matrix A made of three eigen vectors:\", a1,a2,a3)\n",
        "\n",
        "X0 = np.array([1, 1, 1])\n",
        "print(\"Take initial value as X0=\", X0)\n",
        "iteration1 = np.array([np.dot(a1,X0), np.dot(a2,X0), np.dot(a3,X0)])\n",
        "print(\"For iteration 1, calculate the multiplication of matrix A with eigenvector X0\\n\", iteration1)\n",
        "finalX0 = iteration1/14\n",
        "print(\"The largest eigen value is 14, so divide the resulting eigenvector by 14 for \\n the first iteration's eigenvector equal to 14 * \", finalX0)\n",
        "\n",
        "iteration2 = np.array([np.dot(a1,finalX0), np.dot(a2,finalX0), np.dot(a3,finalX0)])\n",
        "\n",
        "print(\"For iteration 2, calculate the multiplication of matrix A with eigenvector finalX0\\n\", iteration2)\n",
        "finalX1 = iteration2/6.5\n",
        "\n",
        "print(\"The largest eigen value is 6.5, so divide the resulting eigenvector by 6.5 for \\n the second iteration's eigenvector equal to 6.5 * \", finalX1)\n",
        "\n",
        "iteration3 = np.array([np.dot(a1,finalX1), np.dot(a2,finalX1), np.dot(a3,finalX1)])\n",
        "print(\"For iteration 3, calculate the multiplication of matrix A with eigenvector finalX1\\n\", iteration3)\n",
        "finalX2 = iteration3/5.92307692\n",
        "print(\"The largest eigen value is 5.92307692, so divide the resulting eigenvector by 5.92307692 for \\n the second iteration's eigenvector equal to 5.92307692 * \", finalX1)\n",
        "\n",
        "print(\"At the end of iteration 3, the largest eigenvalue = 5.92307692 and Eigenvector is \", finalX1)\n",
        "\n",
        "\n",
        "\n"
      ],
      "metadata": {
        "colab": {
          "base_uri": "https://localhost:8080/"
        },
        "id": "F7m7xVoeSczC",
        "outputId": "ed445dc4-6f73-44cd-a5fa-61aa8a936a34"
      },
      "execution_count": 59,
      "outputs": [
        {
          "output_type": "stream",
          "name": "stdout",
          "text": [
            "Matrix A of order n has n linearly independent eigen vectors.\n",
            "Consider matrix A made of three eigen vectors: [ 1 -3  2] [ 4  4 -1] [6 3 5]\n",
            "Take initial value as X0= [1 1 1]\n",
            "For iteration 1, calculate the multiplication of matrix A with eigenvector X0\n",
            " [ 0  7 14]\n",
            "The largest eigen value is 14, so divide the resulting eigenvector by 14 for \n",
            " the first iteration's eigenvector equal to 14 *  [0.  0.5 1. ]\n",
            "For iteration 2, calculate the multiplication of matrix A with eigenvector finalX0\n",
            " [0.5 1.  6.5]\n",
            "The largest eigen value is 6.5, so divide the resulting eigenvector by 6.5 for \n",
            " the second iteration's eigenvector equal to 6.5 *  [0.07692308 0.15384615 1.        ]\n",
            "For iteration 3, calculate the multiplication of matrix A with eigenvector finalX1\n",
            " [ 1.61538462 -0.07692308  5.92307692]\n",
            "The largest eigen value is 5.92307692, so divide the resulting eigenvector by 5.92307692 for \n",
            " the second iteration's eigenvector equal to 5.92307692 *  [0.07692308 0.15384615 1.        ]\n",
            "At the end of iteration 3, the largest eigenvalue = 5.92307692 and Eigenvector is  [0.07692308 0.15384615 1.        ]\n"
          ]
        }
      ]
    },
    {
      "cell_type": "code",
      "source": [],
      "metadata": {
        "id": "B0wDjRFNUMuh"
      },
      "execution_count": null,
      "outputs": []
    }
  ]
}